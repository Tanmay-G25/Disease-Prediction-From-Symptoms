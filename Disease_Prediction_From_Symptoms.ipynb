{
 "cells": [
  {
   "cell_type": "code",
   "execution_count": 1,
   "id": "7c3528e8",
   "metadata": {},
   "outputs": [],
   "source": [
    "import numpy as np\n",
    "import pandas as pd\n",
    "import matplotlib.pyplot as plt"
   ]
  },
  {
   "cell_type": "code",
   "execution_count": 2,
   "id": "59e18641",
   "metadata": {},
   "outputs": [
    {
     "data": {
      "text/html": [
       "<div>\n",
       "<style scoped>\n",
       "    .dataframe tbody tr th:only-of-type {\n",
       "        vertical-align: middle;\n",
       "    }\n",
       "\n",
       "    .dataframe tbody tr th {\n",
       "        vertical-align: top;\n",
       "    }\n",
       "\n",
       "    .dataframe thead th {\n",
       "        text-align: right;\n",
       "    }\n",
       "</style>\n",
       "<table border=\"1\" class=\"dataframe\">\n",
       "  <thead>\n",
       "    <tr style=\"text-align: right;\">\n",
       "      <th></th>\n",
       "      <th>label</th>\n",
       "      <th>text</th>\n",
       "    </tr>\n",
       "  </thead>\n",
       "  <tbody>\n",
       "    <tr>\n",
       "      <th>0</th>\n",
       "      <td>Psoriasis</td>\n",
       "      <td>I have been experiencing a skin rash on my arm...</td>\n",
       "    </tr>\n",
       "    <tr>\n",
       "      <th>1</th>\n",
       "      <td>Psoriasis</td>\n",
       "      <td>My skin has been peeling, especially on my kne...</td>\n",
       "    </tr>\n",
       "    <tr>\n",
       "      <th>2</th>\n",
       "      <td>Psoriasis</td>\n",
       "      <td>I have been experiencing joint pain in my fing...</td>\n",
       "    </tr>\n",
       "    <tr>\n",
       "      <th>3</th>\n",
       "      <td>Psoriasis</td>\n",
       "      <td>There is a silver like dusting on my skin, esp...</td>\n",
       "    </tr>\n",
       "    <tr>\n",
       "      <th>4</th>\n",
       "      <td>Psoriasis</td>\n",
       "      <td>My nails have small dents or pits in them, and...</td>\n",
       "    </tr>\n",
       "  </tbody>\n",
       "</table>\n",
       "</div>"
      ],
      "text/plain": [
       "       label                                               text\n",
       "0  Psoriasis  I have been experiencing a skin rash on my arm...\n",
       "1  Psoriasis  My skin has been peeling, especially on my kne...\n",
       "2  Psoriasis  I have been experiencing joint pain in my fing...\n",
       "3  Psoriasis  There is a silver like dusting on my skin, esp...\n",
       "4  Psoriasis  My nails have small dents or pits in them, and..."
      ]
     },
     "execution_count": 2,
     "metadata": {},
     "output_type": "execute_result"
    }
   ],
   "source": [
    "data = pd.read_csv('./data/Symptom2Disease.csv', index_col=0)\n",
    "data.head()"
   ]
  },
  {
   "cell_type": "markdown",
   "id": "329db3f8",
   "metadata": {},
   "source": [
    "# Text Cleaning"
   ]
  },
  {
   "cell_type": "code",
   "execution_count": 3,
   "id": "d1cb0550",
   "metadata": {},
   "outputs": [],
   "source": [
    "from nltk.tokenize import word_tokenize"
   ]
  },
  {
   "cell_type": "code",
   "execution_count": 4,
   "id": "4c017aac",
   "metadata": {
    "scrolled": true
   },
   "outputs": [],
   "source": [
    "# combining strings to carry out analysis\n",
    "combined_str = ''\n",
    "for i in range(1200):\n",
    "    combined_str = combined_str +\" \"+data.iat[i, 1]\n",
    "\n",
    "combined_str = combined_str.lower()\n",
    "tokens = word_tokenize(combined_str)"
   ]
  },
  {
   "cell_type": "code",
   "execution_count": 5,
   "id": "e5a645fa",
   "metadata": {},
   "outputs": [],
   "source": [
    "from string import punctuation\n",
    "from nltk.corpus import stopwords"
   ]
  },
  {
   "cell_type": "code",
   "execution_count": 6,
   "id": "1aabfd46",
   "metadata": {},
   "outputs": [
    {
     "name": "stdout",
     "output_type": "stream",
     "text": [
      "['i', 'me', 'my', 'myself', 'we', 'our', 'ours', 'ourselves', 'you', \"you're\", \"you've\", \"you'll\", \"you'd\", 'your', 'yours', 'yourself', 'yourselves', 'he', 'him', 'his', 'himself', 'she', \"she's\", 'her', 'hers', 'herself', 'it', \"it's\", 'its', 'itself', 'they', 'them', 'their', 'theirs', 'themselves', 'what', 'which', 'who', 'whom', 'this', 'that', \"that'll\", 'these', 'those', 'am', 'is', 'are', 'was', 'were', 'be', 'been', 'being', 'have', 'has', 'had', 'having', 'do', 'does', 'did', 'doing', 'a', 'an', 'the', 'and', 'but', 'if', 'or', 'because', 'as', 'until', 'while', 'of', 'at', 'by', 'for', 'with', 'about', 'against', 'between', 'into', 'through', 'during', 'before', 'after', 'above', 'below', 'to', 'from', 'up', 'down', 'in', 'out', 'on', 'off', 'over', 'under', 'again', 'further', 'then', 'once', 'here', 'there', 'when', 'where', 'why', 'how', 'all', 'any', 'both', 'each', 'few', 'more', 'most', 'other', 'some', 'such', 'no', 'nor', 'not', 'only', 'own', 'same', 'so', 'than', 'too', 'very', 's', 't', 'can', 'will', 'just', 'don', \"don't\", 'should', \"should've\", 'now', 'd', 'll', 'm', 'o', 're', 've', 'y', 'ain', 'aren', \"aren't\", 'couldn', \"couldn't\", 'didn', \"didn't\", 'doesn', \"doesn't\", 'hadn', \"hadn't\", 'hasn', \"hasn't\", 'haven', \"haven't\", 'isn', \"isn't\", 'ma', 'mightn', \"mightn't\", 'mustn', \"mustn't\", 'needn', \"needn't\", 'shan', \"shan't\", 'shouldn', \"shouldn't\", 'wasn', \"wasn't\", 'weren', \"weren't\", 'won', \"won't\", 'wouldn', \"wouldn't\", '!', \"''\", '#', '$', '%', '&', \"'\", '(', ')', '*', '+', ',', '-./', ':', ';', '<', '=', '>', '?', '@', '[', '\\\\', ']', '^_', '`', '{', '|', '}', '~', '.', \"'ve\", \"'m\", \"'s\", \"n't\"]\n"
     ]
    }
   ],
   "source": [
    "stop = stopwords.words(\"english\")\n",
    "punctuation = word_tokenize(punctuation)\n",
    "stop = stop + punctuation + ['.', \"'ve\", \"'m\", \"'s\", \"n't\" ] \n",
    "print(stop)"
   ]
  },
  {
   "cell_type": "code",
   "execution_count": 7,
   "id": "7a6919a1",
   "metadata": {},
   "outputs": [],
   "source": [
    "new_tokens = [word for word in tokens if word not in stop]"
   ]
  },
  {
   "cell_type": "code",
   "execution_count": 8,
   "id": "d796ae55",
   "metadata": {},
   "outputs": [
    {
     "name": "stdout",
     "output_type": "stream",
     "text": [
      "Number of words before removing stop words  43418\n",
      "NUmber of words after removing stop words  18524\n"
     ]
    }
   ],
   "source": [
    "print(\"Number of words before removing stop words \", len(tokens))\n",
    "print(\"NUmber of words after removing stop words \", len(new_tokens))"
   ]
  },
  {
   "cell_type": "code",
   "execution_count": 9,
   "id": "37b24359",
   "metadata": {},
   "outputs": [],
   "source": [
    "from nltk.probability import FreqDist\n",
    "from nltk.stem import WordNetLemmatizer"
   ]
  },
  {
   "cell_type": "code",
   "execution_count": 10,
   "id": "bcd3bda3",
   "metadata": {},
   "outputs": [],
   "source": [
    "lemm= WordNetLemmatizer()\n",
    "lemm_tokens = [lemm.lemmatize(word) for word in new_tokens ]"
   ]
  },
  {
   "cell_type": "code",
   "execution_count": 11,
   "id": "c21018d1",
   "metadata": {},
   "outputs": [
    {
     "data": {
      "image/png": "[encoded data removed]",
      "text/plain": [
       "<Figure size 1152x576 with 1 Axes>"
      ]
     },
     "metadata": {
      "needs_background": "light"
     },
     "output_type": "display_data"
    }
   ],
   "source": [
    "from matplotlib.pyplot import figure\n",
    "figure(figsize = (16,8))\n",
    "\n",
    "fdist = FreqDist(lemm_tokens)\n",
    "fdist.plot(100, cumulative = False)\n",
    "plt.show()"
   ]
  },
  {
   "cell_type": "code",
   "execution_count": 12,
   "id": "da2a236a",
   "metadata": {},
   "outputs": [],
   "source": [
    "# Also removing a few custom stop words. These words are very common in the dataset but do not carry meaning or inclination towards a class\n",
    "remove =  ['also', 'lot', 'really' ,'along', 'like', 'feel', 'become', 'experiencing', 'get', 'often', 'sometimes', 'go', 'making', 'seem', 'causing', 'feeling', 'lately', 'recently', 'quite']"
   ]
  },
  {
   "cell_type": "code",
   "execution_count": 13,
   "id": "445b406a",
   "metadata": {},
   "outputs": [],
   "source": [
    "rem_tokens = [word for word in lemm_tokens if word not in remove]"
   ]
  },
  {
   "cell_type": "code",
   "execution_count": 14,
   "id": "550ea52a",
   "metadata": {},
   "outputs": [
    {
     "data": {
      "image/png": "[encoded data removed]",
      "text/plain": [
       "<Figure size 1152x576 with 1 Axes>"
      ]
     },
     "metadata": {
      "needs_background": "light"
     },
     "output_type": "display_data"
    }
   ],
   "source": [
    "from matplotlib.pyplot import figure\n",
    "figure(figsize = (16,8))\n",
    "\n",
    "fdist = FreqDist(rem_tokens)\n",
    "fdist.plot(100, cumulative = False)\n",
    "plt.show()"
   ]
  },
  {
   "cell_type": "code",
   "execution_count": 15,
   "id": "1538963c",
   "metadata": {},
   "outputs": [],
   "source": [
    "# defining the clean text function\n",
    "def clean_text(text):\n",
    "    token = word_tokenize(text.lower())\n",
    "    words = [lemm.lemmatize(word) for word in token if word not in stop]\n",
    "    words = [word for word in words if word not in remove]\n",
    "    new_text = \" \".join(words)\n",
    "    return new_text"
   ]
  },
  {
   "cell_type": "code",
   "execution_count": 16,
   "id": "e256efde",
   "metadata": {},
   "outputs": [
    {
     "data": {
      "text/html": [
       "<div>\n",
       "<style scoped>\n",
       "    .dataframe tbody tr th:only-of-type {\n",
       "        vertical-align: middle;\n",
       "    }\n",
       "\n",
       "    .dataframe tbody tr th {\n",
       "        vertical-align: top;\n",
       "    }\n",
       "\n",
       "    .dataframe thead th {\n",
       "        text-align: right;\n",
       "    }\n",
       "</style>\n",
       "<table border=\"1\" class=\"dataframe\">\n",
       "  <thead>\n",
       "    <tr style=\"text-align: right;\">\n",
       "      <th></th>\n",
       "      <th>label</th>\n",
       "      <th>text</th>\n",
       "      <th>clean_text</th>\n",
       "    </tr>\n",
       "  </thead>\n",
       "  <tbody>\n",
       "    <tr>\n",
       "      <th>0</th>\n",
       "      <td>Psoriasis</td>\n",
       "      <td>I have been experiencing a skin rash on my arm...</td>\n",
       "      <td>skin rash arm leg torso past week red itchy co...</td>\n",
       "    </tr>\n",
       "    <tr>\n",
       "      <th>1</th>\n",
       "      <td>Psoriasis</td>\n",
       "      <td>My skin has been peeling, especially on my kne...</td>\n",
       "      <td>skin peeling especially knee elbow scalp peeli...</td>\n",
       "    </tr>\n",
       "    <tr>\n",
       "      <th>2</th>\n",
       "      <td>Psoriasis</td>\n",
       "      <td>I have been experiencing joint pain in my fing...</td>\n",
       "      <td>joint pain finger wrist knee pain achy throbbi...</td>\n",
       "    </tr>\n",
       "    <tr>\n",
       "      <th>3</th>\n",
       "      <td>Psoriasis</td>\n",
       "      <td>There is a silver like dusting on my skin, esp...</td>\n",
       "      <td>silver dusting skin especially lower back scal...</td>\n",
       "    </tr>\n",
       "    <tr>\n",
       "      <th>4</th>\n",
       "      <td>Psoriasis</td>\n",
       "      <td>My nails have small dents or pits in them, and...</td>\n",
       "      <td>nail small dent pit inflammatory tender touch ...</td>\n",
       "    </tr>\n",
       "  </tbody>\n",
       "</table>\n",
       "</div>"
      ],
      "text/plain": [
       "       label                                               text  \\\n",
       "0  Psoriasis  I have been experiencing a skin rash on my arm...   \n",
       "1  Psoriasis  My skin has been peeling, especially on my kne...   \n",
       "2  Psoriasis  I have been experiencing joint pain in my fing...   \n",
       "3  Psoriasis  There is a silver like dusting on my skin, esp...   \n",
       "4  Psoriasis  My nails have small dents or pits in them, and...   \n",
       "\n",
       "                                          clean_text  \n",
       "0  skin rash arm leg torso past week red itchy co...  \n",
       "1  skin peeling especially knee elbow scalp peeli...  \n",
       "2  joint pain finger wrist knee pain achy throbbi...  \n",
       "3  silver dusting skin especially lower back scal...  \n",
       "4  nail small dent pit inflammatory tender touch ...  "
      ]
     },
     "execution_count": 16,
     "metadata": {},
     "output_type": "execute_result"
    }
   ],
   "source": [
    "data['clean_text'] = data.text.apply(clean_text)\n",
    "data.head()"
   ]
  },
  {
   "cell_type": "markdown",
   "id": "a4b60179",
   "metadata": {},
   "source": [
    "# Converting to numerical array"
   ]
  },
  {
   "cell_type": "code",
   "execution_count": 17,
   "id": "567fef1c",
   "metadata": {},
   "outputs": [],
   "source": [
    "from sklearn.feature_extraction.text import TfidfVectorizer\n",
    "vectorizer = TfidfVectorizer(ngram_range=(1,1), max_features = 500)"
   ]
  },
  {
   "cell_type": "code",
   "execution_count": 18,
   "id": "b5358a9f",
   "metadata": {},
   "outputs": [],
   "source": [
    "X = vectorizer.fit_transform(data['clean_text'])\n",
    "TFIDF = pd.DataFrame(X.toarray(), columns=vectorizer.get_feature_names())"
   ]
  },
  {
   "cell_type": "code",
   "execution_count": 19,
   "id": "e758d16a",
   "metadata": {},
   "outputs": [
    {
     "name": "stdout",
     "output_type": "stream",
     "text": [
      "['abdomen', 'abdominal', 'ability', 'able', 'accompanied', 'ache', 'aching', 'acid', 'acidic', 'acidity', 'activity', 'addition', 'additionally', 'aftertaste', 'almost', 'always', 'anus', 'anything', 'appear', 'appeared', 'appears', 'appetite', 'area', 'arm', 'around', 'asleep', 'away', 'awful', 'back', 'bad', 'balance', 'balanced', 'ball', 'bathroom', 'beating', 'becomes', 'becoming', 'behalf', 'behind', 'belching', 'believe', 'belly', 'besides', 'bitter', 'black', 'blackhead', 'bleeding', 'bleeds', 'blistering', 'bloated', 'bloating', 'blocked', 'blood', 'bloody', 'blurred', 'body', 'bothered', 'bothering', 'bowel', 'brain', 'breath', 'breathe', 'breathing', 'brownish', 'bruise', 'bump', 'bumpy', 'burning', 'burping', 'butt', 'ca', 'calf', 'catch', 'cause', 'caused', 'certain', 'challenging', 'change', 'changed', 'cheek', 'chest', 'chill', 'chilly', 'chronic', 'clogged', 'cloudy', 'cold', 'color', 'colored', 'colour', 'come', 'coming', 'completely', 'concentrate', 'concentrating', 'concern', 'concerned', 'concerning', 'congested', 'congestion', 'constant', 'constantly', 'constipated', 'constipation', 'control', 'cough', 'coughing', 'couple', 'covered', 'cramp', 'craving', 'daily', 'dark', 'day', 'deal', 'dealing', 'dent', 'depression', 'desire', 'developed', 'developing', 'diarrhea', 'different', 'difficult', 'difficulty', 'digestive', 'discharge', 'discomfort', 'disoriented', 'distorted', 'disturbance', 'dizziness', 'dizzy', 'doctor', 'drained', 'dry', 'due', 'dusting', 'easily', 'eat', 'eating', 'elbow', 'energy', 'enlarged', 'entire', 'especially', 'even', 'every', 'everything', 'everywhere', 'excessive', 'excruciating', 'excruciatingly', 'exhausted', 'exhaustion', 'experience', 'experienced', 'extreme', 'extremely', 'eye', 'eyesight', 'face', 'fairly', 'falling', 'fast', 'fatigue', 'fatigued', 'felt', 'fever', 'filled', 'find', 'fine', 'firm', 'flake', 'flaky', 'fluid', 'focus', 'focusing', 'foggy', 'food', 'foot', 'foul', 'frequent', 'frequently', 'fullness', 'furthermore', 'generally', 'getting', 'going', 'got', 'gotten', 'growing', 'gunk', 'hacking', 'hair', 'hand', 'hard', 'hazy', 'head', 'headache', 'heal', 'healing', 'health', 'heart', 'heartburn', 'hiccup', 'high', 'horrible', 'hour', 'hue', 'hunger', 'hungry', 'hurt', 'hurting', 'ill', 'impaired', 'impatience', 'including', 'increased', 'incredibly', 'indigestion', 'infection', 'inflamed', 'intense', 'irritability', 'irritated', 'irritating', 'irritation', 'issue', 'itch', 'itchiness', 'itching', 'itchy', 'joint', 'keep', 'kind', 'knee', 'knot', 'know', 'lack', 'large', 'last', 'leg', 'lesion', 'lie', 'life', 'lightheaded', 'lightheadedness', 'limb', 'lingering', 'lip', 'little', 'long', 'longer', 'look', 'loose', 'lose', 'losing', 'loss', 'lost', 'low', 'lower', 'lump', 'lying', 'lymph', 'made', 'make', 'meal', 'medication', 'migraine', 'mild', 'miserable', 'mood', 'moreover', 'morning', 'motion', 'mouth', 'move', 'movement', 'much', 'mucoid', 'mucous', 'mucus', 'muscle', 'muscular', 'nail', 'nasal', 'nasty', 'nausea', 'nauseated', 'nauseous', 'near', 'neck', 'night', 'node', 'nodule', 'nonstop', 'normal', 'nose', 'noticeable', 'noticed', 'numbness', 'observed', 'occasion', 'occasionally', 'odd', 'odour', 'ooze', 'packed', 'pain', 'painful', 'palpitation', 'part', 'particularly', 'past', 'patch', 'pee', 'peel', 'peeling', 'period', 'persistent', 'perspiring', 'phlegm', 'pimple', 'place', 'plaguing', 'pounding', 'present', 'pressure', 'pretty', 'problem', 'producing', 'profusely', 'prominent', 'prone', 'pu', 'pus', 'queasy', 'racing', 'rapidly', 'rash', 'rashy', 'rather', 'red', 'reflux', 'region', 'regular', 'regularly', 'resemble', 'rest', 'restroom', 'result', 'rid', 'right', 'roof', 'run', 'running', 'runny', 'rust', 'sadness', 'scalp', 'scratching', 'scratchy', 'scurring', 'scurrying', 'see', 'seems', 'seen', 'sensation', 'sense', 'sensitive', 'several', 'severe', 'severely', 'shade', 'shake', 'shaking', 'shivering', 'shortness', 'sick', 'significant', 'simply', 'since', 'sinus', 'skin', 'sleep', 'sleeping', 'small', 'smell', 'sneeze', 'sneezing', 'something', 'sore', 'soreness', 'sour', 'spicy', 'spot', 'spreading', 'sputum', 'stand', 'start', 'started', 'starting', 'staying', 'stiff', 'stiffness', 'stomach', 'stool', 'stop', 'strange', 'strong', 'struggling', 'stuck', 'stuff', 'stuffy', 'sudden', 'suddenly', 'suffering', 'sure', 'swallow', 'swallowing', 'sweat', 'sweating', 'swell', 'swelling', 'swollen', 'symptom', 'taking', 'task', 'taste', 'temperature', 'terrible', 'terribly', 'thick', 'thing', 'think', 'throat', 'throughout', 'throw', 'throwing', 'tight', 'time', 'tingling', 'tiny', 'tired', 'today', 'tone', 'touch', 'tough', 'trembling', 'trouble', 'try', 'turned', 'uncomfortable', 'uncontrollable', 'uneasy', 'unpleasant', 'unsteady', 'unwell', 'upper', 'urge', 'urinate', 'urinating', 'urination', 'urine', 'use', 'using', 'usual', 'usually', 'vein', 'vertigo', 'vessel', 'visible', 'vision', 'visual', 'vomit', 'vomiting', 'walk', 'walking', 'want', 'watery', 'weak', 'weakness', 'week', 'weight', 'weird', 'well', 'wheezing', 'whenever', 'without', 'wo', 'woke', 'woozy', 'work', 'worn', 'worried', 'worse', 'wound', 'wrong', 'yellow']\n"
     ]
    }
   ],
   "source": [
    "print(vectorizer.get_feature_names())"
   ]
  },
  {
   "cell_type": "markdown",
   "id": "87f66d49",
   "metadata": {},
   "source": [
    "# Training machine learning models"
   ]
  },
  {
   "cell_type": "code",
   "execution_count": 20,
   "id": "2cccf973",
   "metadata": {},
   "outputs": [],
   "source": [
    "from sklearn.preprocessing import LabelEncoder\n",
    "encode = LabelEncoder()\n",
    "data['class'] = encode.fit_transform(data.label)"
   ]
  },
  {
   "cell_type": "code",
   "execution_count": 21,
   "id": "5e6915d5",
   "metadata": {},
   "outputs": [],
   "source": [
    "x = TFIDF\n",
    "y = data['class']"
   ]
  },
  {
   "cell_type": "code",
   "execution_count": 22,
   "id": "e399bd67",
   "metadata": {},
   "outputs": [],
   "source": [
    "from sklearn.model_selection import train_test_split\n",
    "from sklearn.metrics import confusion_matrix, accuracy_score, classification_report\n",
    "xtrain, xtest, ytrain, ytest = train_test_split(x, y, test_size=0.20)"
   ]
  },
  {
   "cell_type": "markdown",
   "id": "84f48ccf",
   "metadata": {},
   "source": [
    "### Logistic regression"
   ]
  },
  {
   "cell_type": "code",
   "execution_count": 23,
   "id": "5994c276",
   "metadata": {},
   "outputs": [],
   "source": [
    "from sklearn.linear_model import LogisticRegression\n",
    "lg = LogisticRegression()"
   ]
  },
  {
   "cell_type": "code",
   "execution_count": 24,
   "id": "16107ff8",
   "metadata": {},
   "outputs": [
    {
     "data": {
      "text/plain": [
       "LogisticRegression()"
      ]
     },
     "execution_count": 24,
     "metadata": {},
     "output_type": "execute_result"
    }
   ],
   "source": [
    "lg.fit(xtrain, ytrain)"
   ]
  },
  {
   "cell_type": "code",
   "execution_count": 25,
   "id": "a6adf7b1",
   "metadata": {},
   "outputs": [],
   "source": [
    "pred_train = lg.predict(xtrain)"
   ]
  },
  {
   "cell_type": "code",
   "execution_count": 26,
   "id": "44404080",
   "metadata": {},
   "outputs": [
    {
     "data": {
      "text/plain": [
       "0.9916666666666667"
      ]
     },
     "execution_count": 26,
     "metadata": {},
     "output_type": "execute_result"
    }
   ],
   "source": [
    "accuracy_score(ytrain, pred_train)"
   ]
  },
  {
   "cell_type": "code",
   "execution_count": 27,
   "id": "bdc68866",
   "metadata": {},
   "outputs": [],
   "source": [
    "pred_test = lg.predict(xtest)"
   ]
  },
  {
   "cell_type": "code",
   "execution_count": 28,
   "id": "a47611ac",
   "metadata": {},
   "outputs": [
    {
     "data": {
      "text/plain": [
       "0.975"
      ]
     },
     "execution_count": 28,
     "metadata": {},
     "output_type": "execute_result"
    }
   ],
   "source": [
    "accuracy_score(ytest, pred_test)"
   ]
  },
  {
   "cell_type": "code",
   "execution_count": 29,
   "id": "4436309c",
   "metadata": {},
   "outputs": [
    {
     "name": "stdout",
     "output_type": "stream",
     "text": [
      "[[13  0  0  0  0  0  0  0  0  0  0  0  0  0  0  0  0  0  0  0  0  0  0  0]\n",
      " [ 0  7  0  0  0  0  0  0  0  0  0  0  0  0  0  0  0  0  0  0  0  0  0  0]\n",
      " [ 0  0  2  0  0  0  0  0  0  0  0  0  0  0  0  0  0  0  0  0  0  0  0  0]\n",
      " [ 0  0  0 11  0  0  0  0  0  0  0  0  0  0  0  0  0  0  0  0  0  0  0  0]\n",
      " [ 0  0  0  0 13  0  0  0  0  0  0  0  0  0  0  0  0  0  0  0  0  0  0  0]\n",
      " [ 0  0  0  0  0 10  0  0  0  0  0  0  0  0  0  0  0  0  1  0  0  0  0  0]\n",
      " [ 0  0  0  0  0  0  5  0  0  0  0  0  0  0  0  0  0  0  0  0  0  0  0  0]\n",
      " [ 0  0  0  0  0  0  0 14  0  0  0  0  0  0  0  0  0  0  0  0  0  0  0  0]\n",
      " [ 0  0  0  0  0  0  0  0  9  0  0  0  0  0  0  0  0  0  0  0  0  0  0  0]\n",
      " [ 0  0  0  0  0  0  0  0  0 12  0  0  0  0  0  0  0  0  0  0  0  0  0  0]\n",
      " [ 0  0  0  0  0  0  0  0  0  0  9  0  0  0  0  0  0  0  0  0  0  0  0  0]\n",
      " [ 0  0  0  0  0  0  0  0  0  0  0 12  0  0  0  0  0  0  0  0  0  0  0  0]\n",
      " [ 0  0  0  0  0  0  0  0  0  0  0  0 15  0  0  0  0  0  0  0  0  0  0  0]\n",
      " [ 0  0  0  0  0  0  0  0  0  0  0  0  0  6  0  0  0  0  0  0  0  0  0  0]\n",
      " [ 0  0  0  0  0  0  0  0  0  0  0  0  0  0 11  0  0  0  0  0  0  0  0  0]\n",
      " [ 0  0  0  0  0  0  0  0  0  0  0  0  0  0  0  7  0  0  1  0  0  0  0  0]\n",
      " [ 0  0  0  0  0  0  0  0  0  0  0  0  0  0  0  0 14  0  0  0  0  0  0  0]\n",
      " [ 0  0  0  0  0  0  0  0  0  0  0  0  0  0  0  0  0 10  0  0  0  0  0  0]\n",
      " [ 0  0  0  0  0  0  0  0  0  0  0  0  0  0  0  0  0  0  6  0  0  0  0  0]\n",
      " [ 0  0  0  0  0  0  0  0  0  0  0  0  0  0  0  0  0  0  0 13  1  0  0  0]\n",
      " [ 0  0  0  0  0  0  0  0  0  0  0  0  0  0  0  0  0  0  0  0 11  0  0  0]\n",
      " [ 0  0  0  0  0  0  0  0  0  0  0  0  0  0  0  0  0  0  0  0  0  9  0  0]\n",
      " [ 0  0  0  0  0  0  0  0  0  0  0  0  0  0  0  0  1  0  0  0  0  1  7  0]\n",
      " [ 0  0  0  0  0  0  1  0  0  0  0  0  0  0  0  0  0  0  0  0  0  0  0  8]]\n"
     ]
    }
   ],
   "source": [
    "with np.printoptions(threshold=np.inf):\n",
    "    print(confusion_matrix(ytest, pred_test))"
   ]
  },
  {
   "cell_type": "code",
   "execution_count": 30,
   "id": "eaa10b4b",
   "metadata": {},
   "outputs": [
    {
     "name": "stdout",
     "output_type": "stream",
     "text": [
      "              precision    recall  f1-score   support\n",
      "\n",
      "           0       1.00      1.00      1.00        13\n",
      "           1       1.00      1.00      1.00         7\n",
      "           2       1.00      1.00      1.00         2\n",
      "           3       1.00      1.00      1.00        11\n",
      "           4       1.00      1.00      1.00        13\n",
      "           5       1.00      0.91      0.95        11\n",
      "           6       0.83      1.00      0.91         5\n",
      "           7       1.00      1.00      1.00        14\n",
      "           8       1.00      1.00      1.00         9\n",
      "           9       1.00      1.00      1.00        12\n",
      "          10       1.00      1.00      1.00         9\n",
      "          11       1.00      1.00      1.00        12\n",
      "          12       1.00      1.00      1.00        15\n",
      "          13       1.00      1.00      1.00         6\n",
      "          14       1.00      1.00      1.00        11\n",
      "          15       1.00      0.88      0.93         8\n",
      "          16       0.93      1.00      0.97        14\n",
      "          17       1.00      1.00      1.00        10\n",
      "          18       0.75      1.00      0.86         6\n",
      "          19       1.00      0.93      0.96        14\n",
      "          20       0.92      1.00      0.96        11\n",
      "          21       0.90      1.00      0.95         9\n",
      "          22       1.00      0.78      0.88         9\n",
      "          23       1.00      0.89      0.94         9\n",
      "\n",
      "    accuracy                           0.97       240\n",
      "   macro avg       0.97      0.97      0.97       240\n",
      "weighted avg       0.98      0.97      0.98       240\n",
      "\n"
     ]
    }
   ],
   "source": [
    "with np.printoptions(threshold=np.inf):\n",
    "    print(classification_report(ytest, pred_test))"
   ]
  },
  {
   "cell_type": "markdown",
   "id": "08e2228a",
   "metadata": {},
   "source": [
    "### Support Vector Machines"
   ]
  },
  {
   "cell_type": "code",
   "execution_count": 31,
   "id": "71895d8e",
   "metadata": {},
   "outputs": [],
   "source": [
    "from sklearn.svm import SVC\n",
    "svm = SVC(kernel = 'rbf')"
   ]
  },
  {
   "cell_type": "code",
   "execution_count": 32,
   "id": "543e14d2",
   "metadata": {},
   "outputs": [
    {
     "data": {
      "text/plain": [
       "SVC()"
      ]
     },
     "execution_count": 32,
     "metadata": {},
     "output_type": "execute_result"
    }
   ],
   "source": [
    "svm.fit(xtrain, ytrain)"
   ]
  },
  {
   "cell_type": "code",
   "execution_count": 33,
   "id": "2ad46bf9",
   "metadata": {},
   "outputs": [],
   "source": [
    "pred_train = svm.predict(xtrain)"
   ]
  },
  {
   "cell_type": "code",
   "execution_count": 34,
   "id": "381f7ecf",
   "metadata": {},
   "outputs": [
    {
     "data": {
      "text/plain": [
       "1.0"
      ]
     },
     "execution_count": 34,
     "metadata": {},
     "output_type": "execute_result"
    }
   ],
   "source": [
    "accuracy_score(ytrain, pred_train)"
   ]
  },
  {
   "cell_type": "code",
   "execution_count": 35,
   "id": "ed99f283",
   "metadata": {},
   "outputs": [],
   "source": [
    "pred_test = svm.predict(xtest)"
   ]
  },
  {
   "cell_type": "code",
   "execution_count": 36,
   "id": "53a075b6",
   "metadata": {},
   "outputs": [
    {
     "data": {
      "text/plain": [
       "0.9708333333333333"
      ]
     },
     "execution_count": 36,
     "metadata": {},
     "output_type": "execute_result"
    }
   ],
   "source": [
    "accuracy_score(ytest, pred_test)"
   ]
  },
  {
   "cell_type": "code",
   "execution_count": 37,
   "id": "aecc34f5",
   "metadata": {},
   "outputs": [
    {
     "name": "stdout",
     "output_type": "stream",
     "text": [
      "[[13  0  0  0  0  0  0  0  0  0  0  0  0  0  0  0  0  0  0  0  0  0  0  0]\n",
      " [ 0  7  0  0  0  0  0  0  0  0  0  0  0  0  0  0  0  0  0  0  0  0  0  0]\n",
      " [ 0  0  2  0  0  0  0  0  0  0  0  0  0  0  0  0  0  0  0  0  0  0  0  0]\n",
      " [ 0  0  0 10  0  0  0  0  0  0  0  0  0  0  0  0  0  0  0  0  1  0  0  0]\n",
      " [ 0  0  0  0 13  0  0  0  0  0  0  0  0  0  0  0  0  0  0  0  0  0  0  0]\n",
      " [ 0  0  0  0  0  9  0  0  0  0  0  0  0  0  0  0  0  0  1  0  1  0  0  0]\n",
      " [ 0  0  0  0  0  0  4  0  0  0  0  0  0  0  0  0  1  0  0  0  0  0  0  0]\n",
      " [ 0  0  0  0  0  0  0 14  0  0  0  0  0  0  0  0  0  0  0  0  0  0  0  0]\n",
      " [ 0  0  0  0  0  0  0  0  8  0  0  0  0  0  0  1  0  0  0  0  0  0  0  0]\n",
      " [ 0  0  0  0  0  0  0  0  0 12  0  0  0  0  0  0  0  0  0  0  0  0  0  0]\n",
      " [ 0  0  0  0  0  0  0  0  0  0  9  0  0  0  0  0  0  0  0  0  0  0  0  0]\n",
      " [ 0  0  0  0  0  0  0  0  0  0  0 12  0  0  0  0  0  0  0  0  0  0  0  0]\n",
      " [ 0  0  0  0  0  0  0  0  0  0  0  0 15  0  0  0  0  0  0  0  0  0  0  0]\n",
      " [ 0  0  0  0  0  0  0  0  0  0  0  0  0  6  0  0  0  0  0  0  0  0  0  0]\n",
      " [ 0  0  0  0  0  0  0  0  0  0  0  0  0  0 11  0  0  0  0  0  0  0  0  0]\n",
      " [ 0  0  0  0  0  0  0  0  0  0  0  0  0  0  0  8  0  0  0  0  0  0  0  0]\n",
      " [ 0  0  0  0  0  0  0  0  0  0  0  0  0  0  0  0 14  0  0  0  0  0  0  0]\n",
      " [ 0  0  0  0  0  0  0  0  0  0  0  0  0  0  0  0  0 10  0  0  0  0  0  0]\n",
      " [ 0  0  0  0  0  0  0  0  0  0  0  0  0  0  0  0  0  0  6  0  0  0  0  0]\n",
      " [ 0  0  0  0  0  0  0  0  0  0  0  0  0  0  0  0  0  0  0 14  0  0  0  0]\n",
      " [ 0  0  0  0  0  0  0  0  0  0  0  0  0  0  0  0  0  0  0  0 11  0  0  0]\n",
      " [ 0  0  0  0  0  0  0  0  0  0  0  0  0  0  0  0  0  0  0  0  1  8  0  0]\n",
      " [ 0  0  0  0  0  0  0  0  0  0  0  0  0  0  0  0  0  0  0  0  0  0  9  0]\n",
      " [ 0  0  0  0  0  0  0  0  0  0  0  0  0  0  0  0  0  0  0  0  1  0  0  8]]\n"
     ]
    }
   ],
   "source": [
    "with np.printoptions(threshold=np.inf):\n",
    "    print(confusion_matrix(ytest, pred_test))"
   ]
  },
  {
   "cell_type": "code",
   "execution_count": 38,
   "id": "e9b1d308",
   "metadata": {},
   "outputs": [
    {
     "name": "stdout",
     "output_type": "stream",
     "text": [
      "              precision    recall  f1-score   support\n",
      "\n",
      "           0       1.00      1.00      1.00        13\n",
      "           1       1.00      1.00      1.00         7\n",
      "           2       1.00      1.00      1.00         2\n",
      "           3       1.00      0.91      0.95        11\n",
      "           4       1.00      1.00      1.00        13\n",
      "           5       1.00      0.82      0.90        11\n",
      "           6       1.00      0.80      0.89         5\n",
      "           7       1.00      1.00      1.00        14\n",
      "           8       1.00      0.89      0.94         9\n",
      "           9       1.00      1.00      1.00        12\n",
      "          10       1.00      1.00      1.00         9\n",
      "          11       1.00      1.00      1.00        12\n",
      "          12       1.00      1.00      1.00        15\n",
      "          13       1.00      1.00      1.00         6\n",
      "          14       1.00      1.00      1.00        11\n",
      "          15       0.89      1.00      0.94         8\n",
      "          16       0.93      1.00      0.97        14\n",
      "          17       1.00      1.00      1.00        10\n",
      "          18       0.86      1.00      0.92         6\n",
      "          19       1.00      1.00      1.00        14\n",
      "          20       0.73      1.00      0.85        11\n",
      "          21       1.00      0.89      0.94         9\n",
      "          22       1.00      1.00      1.00         9\n",
      "          23       1.00      0.89      0.94         9\n",
      "\n",
      "    accuracy                           0.97       240\n",
      "   macro avg       0.98      0.97      0.97       240\n",
      "weighted avg       0.98      0.97      0.97       240\n",
      "\n"
     ]
    }
   ],
   "source": [
    "with np.printoptions(threshold=np.inf):\n",
    "    print(classification_report(ytest, pred_test))"
   ]
  },
  {
   "cell_type": "markdown",
   "id": "0e526497",
   "metadata": {},
   "source": [
    "### Multi-Layer Perceptron"
   ]
  },
  {
   "cell_type": "code",
   "execution_count": 39,
   "id": "4981f3bd",
   "metadata": {},
   "outputs": [],
   "source": [
    "from sklearn.neural_network import MLPClassifier\n",
    "mlp = MLPClassifier(activation = 'logistic', hidden_layer_sizes=(150), max_iter = 10000)"
   ]
  },
  {
   "cell_type": "code",
   "execution_count": 40,
   "id": "ca632b0f",
   "metadata": {},
   "outputs": [
    {
     "data": {
      "text/plain": [
       "MLPClassifier(activation='logistic', hidden_layer_sizes=150, max_iter=10000)"
      ]
     },
     "execution_count": 40,
     "metadata": {},
     "output_type": "execute_result"
    }
   ],
   "source": [
    "mlp.fit(xtrain, ytrain)"
   ]
  },
  {
   "cell_type": "code",
   "execution_count": 41,
   "id": "1a338b56",
   "metadata": {},
   "outputs": [],
   "source": [
    "pred_train = mlp.predict(xtrain)"
   ]
  },
  {
   "cell_type": "code",
   "execution_count": 42,
   "id": "4c30fd28",
   "metadata": {},
   "outputs": [
    {
     "data": {
      "text/plain": [
       "1.0"
      ]
     },
     "execution_count": 42,
     "metadata": {},
     "output_type": "execute_result"
    }
   ],
   "source": [
    "accuracy_score(ytrain, pred_train)"
   ]
  },
  {
   "cell_type": "code",
   "execution_count": 43,
   "id": "935b2b98",
   "metadata": {},
   "outputs": [],
   "source": [
    "pred_test = mlp.predict(xtest)"
   ]
  },
  {
   "cell_type": "code",
   "execution_count": 44,
   "id": "b64babbe",
   "metadata": {},
   "outputs": [
    {
     "data": {
      "text/plain": [
       "0.9708333333333333"
      ]
     },
     "execution_count": 44,
     "metadata": {},
     "output_type": "execute_result"
    }
   ],
   "source": [
    "accuracy_score(ytest, pred_test)"
   ]
  },
  {
   "cell_type": "code",
   "execution_count": 45,
   "id": "59776d70",
   "metadata": {},
   "outputs": [
    {
     "name": "stdout",
     "output_type": "stream",
     "text": [
      "[[13  0  0  0  0  0  0  0  0  0  0  0  0  0  0  0  0  0  0  0  0  0  0  0]\n",
      " [ 0  7  0  0  0  0  0  0  0  0  0  0  0  0  0  0  0  0  0  0  0  0  0  0]\n",
      " [ 0  0  2  0  0  0  0  0  0  0  0  0  0  0  0  0  0  0  0  0  0  0  0  0]\n",
      " [ 0  0  0 10  0  0  0  0  0  0  0  0  0  0  0  0  0  0  0  0  1  0  0  0]\n",
      " [ 0  0  0  0 13  0  0  0  0  0  0  0  0  0  0  0  0  0  0  0  0  0  0  0]\n",
      " [ 0  0  0  0  0  9  0  0  0  0  0  0  0  0  0  0  0  0  2  0  0  0  0  0]\n",
      " [ 0  0  0  0  0  0  5  0  0  0  0  0  0  0  0  0  0  0  0  0  0  0  0  0]\n",
      " [ 0  0  0  0  0  0  0 14  0  0  0  0  0  0  0  0  0  0  0  0  0  0  0  0]\n",
      " [ 0  0  0  0  0  0  0  0  9  0  0  0  0  0  0  0  0  0  0  0  0  0  0  0]\n",
      " [ 0  0  0  0  0  0  0  0  0 12  0  0  0  0  0  0  0  0  0  0  0  0  0  0]\n",
      " [ 0  0  0  0  0  0  0  0  0  0  9  0  0  0  0  0  0  0  0  0  0  0  0  0]\n",
      " [ 0  0  0  0  0  0  0  0  0  0  0 12  0  0  0  0  0  0  0  0  0  0  0  0]\n",
      " [ 0  0  0  0  0  0  0  0  0  0  0  0 15  0  0  0  0  0  0  0  0  0  0  0]\n",
      " [ 0  0  0  0  0  0  0  0  0  0  0  0  0  6  0  0  0  0  0  0  0  0  0  0]\n",
      " [ 0  0  0  0  0  0  0  0  0  0  0  0  0  0 11  0  0  0  0  0  0  0  0  0]\n",
      " [ 0  0  0  0  0  0  0  0  0  0  0  0  0  0  0  8  0  0  0  0  0  0  0  0]\n",
      " [ 0  0  0  0  0  0  0  0  0  0  0  0  0  0  0  0 14  0  0  0  0  0  0  0]\n",
      " [ 0  0  0  0  0  0  0  0  0  0  0  0  0  0  0  0  0 10  0  0  0  0  0  0]\n",
      " [ 0  0  0  0  0  0  0  0  0  0  0  0  0  0  0  0  0  0  6  0  0  0  0  0]\n",
      " [ 0  0  0  0  0  0  0  0  0  0  0  0  0  0  0  0  0  0  0 14  0  0  0  0]\n",
      " [ 0  0  0  0  0  0  0  0  0  0  0  0  0  0  0  0  0  0  0  0 11  0  0  0]\n",
      " [ 0  0  0  0  0  0  0  0  0  0  0  0  0  0  0  0  0  0  0  0  1  8  0  0]\n",
      " [ 0  0  0  0  0  0  0  0  0  0  0  0  0  0  0  0  0  0  0  0  0  1  8  0]\n",
      " [ 0  0  0  0  0  0  0  0  0  0  0  0  0  0  0  0  1  0  0  0  1  0  0  7]]\n"
     ]
    }
   ],
   "source": [
    "with np.printoptions(threshold=np.inf):\n",
    "    print(confusion_matrix(ytest, pred_test))"
   ]
  },
  {
   "cell_type": "code",
   "execution_count": 46,
   "id": "3ff5ca3b",
   "metadata": {},
   "outputs": [
    {
     "name": "stdout",
     "output_type": "stream",
     "text": [
      "              precision    recall  f1-score   support\n",
      "\n",
      "           0       1.00      1.00      1.00        13\n",
      "           1       1.00      1.00      1.00         7\n",
      "           2       1.00      1.00      1.00         2\n",
      "           3       1.00      0.91      0.95        11\n",
      "           4       1.00      1.00      1.00        13\n",
      "           5       1.00      0.82      0.90        11\n",
      "           6       1.00      1.00      1.00         5\n",
      "           7       1.00      1.00      1.00        14\n",
      "           8       1.00      1.00      1.00         9\n",
      "           9       1.00      1.00      1.00        12\n",
      "          10       1.00      1.00      1.00         9\n",
      "          11       1.00      1.00      1.00        12\n",
      "          12       1.00      1.00      1.00        15\n",
      "          13       1.00      1.00      1.00         6\n",
      "          14       1.00      1.00      1.00        11\n",
      "          15       1.00      1.00      1.00         8\n",
      "          16       0.93      1.00      0.97        14\n",
      "          17       1.00      1.00      1.00        10\n",
      "          18       0.75      1.00      0.86         6\n",
      "          19       1.00      1.00      1.00        14\n",
      "          20       0.79      1.00      0.88        11\n",
      "          21       0.89      0.89      0.89         9\n",
      "          22       1.00      0.89      0.94         9\n",
      "          23       1.00      0.78      0.88         9\n",
      "\n",
      "    accuracy                           0.97       240\n",
      "   macro avg       0.97      0.97      0.97       240\n",
      "weighted avg       0.98      0.97      0.97       240\n",
      "\n"
     ]
    }
   ],
   "source": [
    "with np.printoptions(threshold=np.inf):\n",
    "    print(classification_report(ytest, pred_test))"
   ]
  },
  {
   "cell_type": "code",
   "execution_count": null,
   "id": "6f646a1f",
   "metadata": {},
   "outputs": [],
   "source": []
  },
  {
   "cell_type": "code",
   "execution_count": 47,
   "id": "71b2c8d6",
   "metadata": {},
   "outputs": [
    {
     "data": {
      "text/html": [
       "<div>\n",
       "<style scoped>\n",
       "    .dataframe tbody tr th:only-of-type {\n",
       "        vertical-align: middle;\n",
       "    }\n",
       "\n",
       "    .dataframe tbody tr th {\n",
       "        vertical-align: top;\n",
       "    }\n",
       "\n",
       "    .dataframe thead th {\n",
       "        text-align: right;\n",
       "    }\n",
       "</style>\n",
       "<table border=\"1\" class=\"dataframe\">\n",
       "  <thead>\n",
       "    <tr style=\"text-align: right;\">\n",
       "      <th></th>\n",
       "      <th>Suggestion</th>\n",
       "    </tr>\n",
       "    <tr>\n",
       "      <th>Disease</th>\n",
       "      <th></th>\n",
       "    </tr>\n",
       "  </thead>\n",
       "  <tbody>\n",
       "    <tr>\n",
       "      <th>Psoriasis</th>\n",
       "      <td>You can apply creams, ointments and solutions ...</td>\n",
       "    </tr>\n",
       "    <tr>\n",
       "      <th>Varicose Veins</th>\n",
       "      <td>Do regular exercises for better blood circulat...</td>\n",
       "    </tr>\n",
       "    <tr>\n",
       "      <th>Typhoid</th>\n",
       "      <td>A course of antibiotic tablets like ciprofloxa...</td>\n",
       "    </tr>\n",
       "    <tr>\n",
       "      <th>Chicken pox</th>\n",
       "      <td>Apply calamine lotion and take cool baths with...</td>\n",
       "    </tr>\n",
       "    <tr>\n",
       "      <th>Impetigo</th>\n",
       "      <td>Use mupirocin antibiotic ointment or just appl...</td>\n",
       "    </tr>\n",
       "  </tbody>\n",
       "</table>\n",
       "</div>"
      ],
      "text/plain": [
       "                                                       Suggestion\n",
       "Disease                                                          \n",
       "Psoriasis       You can apply creams, ointments and solutions ...\n",
       "Varicose Veins  Do regular exercises for better blood circulat...\n",
       "Typhoid         A course of antibiotic tablets like ciprofloxa...\n",
       "Chicken pox     Apply calamine lotion and take cool baths with...\n",
       "Impetigo        Use mupirocin antibiotic ointment or just appl..."
      ]
     },
     "execution_count": 47,
     "metadata": {},
     "output_type": "execute_result"
    }
   ],
   "source": [
    "# Loading dataset which has suggestions for different diseases\n",
    "suggestions = pd.read_excel('./data/suggestions.xlsx')\n",
    "suggestions.columns = suggestions.columns.str.strip()\n",
    "suggestions = suggestions.set_index('Disease')\n",
    "suggestions.head()"
   ]
  },
  {
   "cell_type": "code",
   "execution_count": 48,
   "id": "59208a8a",
   "metadata": {},
   "outputs": [],
   "source": [
    "# defining the final function\n",
    "def predict(text):\n",
    "    text = [clean_text(text)]\n",
    "    row_vector = vectorizer.transform(text).toarray()\n",
    "    p1 = lg.predict(row_vector)\n",
    "    p2 = svm.predict(row_vector)\n",
    "    p3 = mlp.predict(row_vector)\n",
    "    \n",
    "    #Ensemble method - combining the thre predictions - choosing the most common predicted class\n",
    "    if p1 == p2 == p3:\n",
    "        p = p1\n",
    "    elif p1 == p2:\n",
    "        p = p1\n",
    "    elif p1 == p3:\n",
    "        p = p1\n",
    "    elif p2 == p3:\n",
    "        p = p2\n",
    "    else:\n",
    "        p = p2\n",
    "    disease = encode.inverse_transform(p)\n",
    "    result =  (\"According to the disease prediction model, you are suffering from \" + disease + \". The suggested steps are - \" +\n",
    "    suggestions.at[disease[0], 'Suggestion'] + \" Consult your doctor if your condition worsens.\")\n",
    "    return result[0]\n",
    "    "
   ]
  },
  {
   "cell_type": "code",
   "execution_count": 49,
   "id": "96789a53",
   "metadata": {},
   "outputs": [],
   "source": [
    "import pickle\n",
    "\n",
    "with open('trained_model.pkl', 'wb') as file:\n",
    "    pickle.dump((vectorizer, lg, svm, mlp, encode), file)"
   ]
  },
  {
   "cell_type": "markdown",
   "id": "4fe514e1",
   "metadata": {},
   "source": [
    "# Results"
   ]
  },
  {
   "cell_type": "code",
   "execution_count": 50,
   "id": "00dc272c",
   "metadata": {},
   "outputs": [
    {
     "data": {
      "text/plain": [
       "'According to the disease prediction model, you are suffering from Pneumonia. The suggested steps are - Take antibiotics and use pain relievers such as aspirin etc. Consult your doctor if your condition worsens.'"
      ]
     },
     "execution_count": 50,
     "metadata": {},
     "output_type": "execute_result"
    }
   ],
   "source": [
    "predict(\"I have cough with phlegm or pus, fever, chills\")"
   ]
  },
  {
   "cell_type": "code",
   "execution_count": 51,
   "id": "9520a1bc",
   "metadata": {},
   "outputs": [
    {
     "data": {
      "text/plain": [
       "'According to the disease prediction model, you are suffering from Arthritis. The suggested steps are - Nonsteroidal drugs can relieve pain and reduce inflammation. Some creams that contain menthol or capsaicin can be applied. Consult your doctor if your condition worsens.'"
      ]
     },
     "execution_count": 51,
     "metadata": {},
     "output_type": "execute_result"
    }
   ],
   "source": [
    "predict(\"I have joint pain, swelling, and stiffness.\")"
   ]
  },
  {
   "cell_type": "code",
   "execution_count": 52,
   "id": "7f5d51b4",
   "metadata": {},
   "outputs": [
    {
     "data": {
      "text/plain": [
       "'According to the disease prediction model, you are suffering from Acne. The suggested steps are - Apply apple cider vinegar, make a honey and cinnamon mask and take spot treatments to heal pimples. Consult your doctor if your condition worsens.'"
      ]
     },
     "execution_count": 52,
     "metadata": {},
     "output_type": "execute_result"
    }
   ],
   "source": [
    "predict(\"I have blackheads and pimples on my face\")"
   ]
  },
  {
   "cell_type": "code",
   "execution_count": 53,
   "id": "5b3c6231",
   "metadata": {},
   "outputs": [
    {
     "data": {
      "text/plain": [
       "'According to the disease prediction model, you are suffering from diabetes. The suggested steps are - Take care of your food habits; Eat non-starchy vegetables, leafy greens, fatty fish, etc. Consult your doctor if your condition worsens.'"
      ]
     },
     "execution_count": 53,
     "metadata": {},
     "output_type": "execute_result"
    }
   ],
   "source": [
    "predict(\"I have a dry mouth and i tend to urinate frequently\")"
   ]
  },
  {
   "cell_type": "code",
   "execution_count": 54,
   "id": "0f56a4bc",
   "metadata": {},
   "outputs": [
    {
     "data": {
      "text/plain": [
       "'According to the disease prediction model, you are suffering from Hypertension. The suggested steps are - Exercise regularly, quit smoking, reduce stress, and eat a healthy diet. Also get a good night sleep. Consult your doctor if your condition worsens.'"
      ]
     },
     "execution_count": 54,
     "metadata": {},
     "output_type": "execute_result"
    }
   ],
   "source": [
    "predict(\"I have headache and tiredness\")"
   ]
  }
 ],
 "metadata": {
  "kernelspec": {
   "display_name": "Python 3",
   "language": "python",
   "name": "python3"
  },
  "language_info": {
   "codemirror_mode": {
    "name": "ipython",
    "version": 3
   },
   "file_extension": ".py",
   "mimetype": "text/x-python",
   "name": "python",
   "nbconvert_exporter": "python",
   "pygments_lexer": "ipython3",
   "version": "3.8.8"
  }
 },
 "nbformat": 4,
 "nbformat_minor": 5
}
